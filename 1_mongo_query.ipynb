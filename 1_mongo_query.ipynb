{
 "cells": [
  {
   "cell_type": "markdown",
   "id": "121fc8be-2420-47e0-b91f-cb2bfbbfa229",
   "metadata": {},
   "source": [
    "# Set up MongoDB\n",
    "\n",
    "Let's first get set up with some prerequisites that you will need to successfully execute the project.\n",
    "\n",
    "In this project, you will build a text-to-query agent that can run queries against a movies database stored in MongoDB. But first, you will need a MongoDB Atlas account with a database cluster. **Follow these steps to get set up**:    \n",
    "* **Register for a [free MongoDB Atlas account](https://www.mongodb.com/cloud/atlas/register/?utm_campaign=devrel&utm_source=third-party-content&utm_medium=cta&utm_content=datacamp_text_to_query_course&utm_term=apoorva.joshi)**\n",
    "* **Create a new database cluster**: Once you register and sign into your Atlas account for the first time, you will be directed to the Cluster Deployment page.\n",
    "  * Select the _Free_ option to create a free tier cluster.\n",
    "  Notice that this will automatically check the _Preload sample dataset_ box under _Quick setup_. This will load a movies database named `sample_mflix` into your cluster once it is created. We will use this database throughout the project.\n",
    "  * Click _Create Deployment_ to create the cluster.\n",
    "  * In the modal that appears, click _Create database user_. Then click _Choose a connection method_.\n",
    "  * In the next screen, click _Drivers_.\n",
    "  * Next, copy the connection string (starts with `mongodb+srv://`) to a safe place. You will need this to connect to your cluster later on.\n",
    "  * Click _Done_.\n",
    "* **Allow Access from anywhere**: To connect to your MongoDB cluster from your Datalab workbook, you will need to open up network access to your cluster.\n",
    "  * From the side navigation bar in the Atlas UI, select _Security_ > Network Access.\n",
    "  * On the screen that appears, click _Add IP Address_.\n",
    "  * In the modal that appears, click _Allow Access From Anywhere_ and click _Confirm_.\n",
    "  NOTE: Opening access to your MongoDB clusters from anywhere is not recommended in production environments. We are just doing it for easy access in this project."
   ]
  },
  {
   "cell_type": "code",
   "execution_count": null,
   "id": "4856bafb-66f0-4f92-9cf1-db79e7869973",
   "metadata": {},
   "outputs": [],
   "source": [
    "# !pip install  --quiet pymongo==4.13.2"
   ]
  },
  {
   "cell_type": "code",
   "execution_count": 5,
   "id": "1d472475-f5ad-4afd-89c8-1987420cf200",
   "metadata": {},
   "outputs": [],
   "source": [
    "import os\n",
    "from pymongo import MongoClient\n",
    "\n",
    "# provide your own MONGODB_URI and OPENAI_API_KEY\n",
    "MONGODB_URI = \"write_your_own_mongodb_uri\"\n",
    "OPENAI_API_KEY = \"write_your_own_openai_api_key\"\n",
    "\n",
    "# Initialize a MongoDB Python client\n",
    "mongodb_client = MongoClient(MONGODB_URI)"
   ]
  },
  {
   "cell_type": "code",
   "execution_count": 3,
   "id": "6ed5233a-aea0-45c2-ad43-a103e346f180",
   "metadata": {},
   "outputs": [
    {
     "name": "stdout",
     "output_type": "stream",
     "text": [
      "{'ok': 1}\n"
     ]
    }
   ],
   "source": [
    "# Check the connection to your cluster\n",
    "ping_result = mongodb_client.admin.command(\"ping\")\n",
    "print(ping_result)"
   ]
  },
  {
   "cell_type": "markdown",
   "id": "9c86ef9f-f7fd-48b6-822e-bee984fb1c22",
   "metadata": {},
   "source": [
    "# Writing MongoDB queries\n",
    "\n",
    "The MongoDB Query API is the mechanism with which you (or AI agents) interact with data stored in MongoDB.\n",
    "\n",
    "In the following section, we will perform some queries against the sample movies dataset using the MongoDB Query API.\n",
    "\n",
    "The movies dataset is actually a database consisting of multiple collections that you can write queries against.\n",
    "\n",
    "Let's first analyze what collections are available in this database.\n",
    "\n",
    "In `pymongo`, MongoDB's Python driver, you can access a database using dictionary keys."
   ]
  },
  {
   "cell_type": "code",
   "execution_count": 4,
   "id": "d7d7417f-bc18-41d0-b318-c1a0db0d94c8",
   "metadata": {},
   "outputs": [
    {
     "data": {
      "text/plain": [
       "['embedded_movies', 'movies', 'sessions', 'comments', 'users', 'theaters']"
      ]
     },
     "execution_count": 4,
     "metadata": {},
     "output_type": "execute_result"
    }
   ],
   "source": [
    "# Access the sample_mflix database\n",
    "db = mongodb_client[\"sample_mflix\"]\n",
    "db.list_collection_names()"
   ]
  },
  {
   "cell_type": "markdown",
   "id": "733e9dfe-119a-418a-85c2-219950daaccc",
   "metadata": {},
   "source": [
    "Looking at the output of the above command, the `sample_mflix` database has the following collections:\n",
    "\n",
    "* `comments`: Contains comments associated with specific movies.\n",
    "* `movies`: Contains movie information, including release year, director, and reviews.\n",
    "* `embedded_movies`: Contains details about a subset of movies in the `movies` collection, with additional embedding fields added to the documents to facilitate vector search.\n",
    "* `users`: Contains user information.\n",
    "* `theaters`: Contains locations of movie theaters.\n",
    "* `sessions`: Contains comments associated with specific movies.\n",
    "\n",
    "For now, let's pick the `movies` collection and perform some queries against it."
   ]
  },
  {
   "cell_type": "markdown",
   "id": "e8bcfc7f-d136-44fc-8349-78efc1bcf4f5",
   "metadata": {},
   "source": [
    "### Basic CRUD operations\n",
    "\n",
    "The simplest way to interact with your MongoDB data is via CRUD (Create, Read, Update, and Delete) operations.\n",
    "\n",
    "Let's try out some of the CRUD operations using MongoDB's Python driver (`pymongo`).\n",
    "\n",
    "To preview a random sample document in the `movies` collection, we will call the `find_one()` method from the Python driver with an empty query filter (`{}`).\n"
   ]
  },
  {
   "cell_type": "code",
   "execution_count": 7,
   "id": "0284795a-edf0-4b0b-abd3-985df037057a",
   "metadata": {},
   "outputs": [
    {
     "data": {
      "text/plain": [
       "{'_id': ObjectId('573a1390f29313caabcd42e8'),\n",
       " 'plot': 'A group of bandits stage a brazen train hold-up, only to find a determined posse hot on their heels.',\n",
       " 'genres': ['Short', 'Western'],\n",
       " 'runtime': 11,\n",
       " 'cast': ['A.C. Abadie',\n",
       "  \"Gilbert M. 'Broncho Billy' Anderson\",\n",
       "  'George Barnes',\n",
       "  'Justus D. Barnes'],\n",
       " 'poster': 'https://m.media-amazon.com/images/M/MV5BMTU3NjE5NzYtYTYyNS00MDVmLWIwYjgtMmYwYWIxZDYyNzU2XkEyXkFqcGdeQXVyNzQzNzQxNzI@._V1_SY1000_SX677_AL_.jpg',\n",
       " 'title': 'The Great Train Robbery',\n",
       " 'fullplot': \"Among the earliest existing films in American cinema - notable as the first film that presented a narrative story to tell - it depicts a group of cowboy outlaws who hold up a train and rob the passengers. They are then pursued by a Sheriff's posse. Several scenes have color included - all hand tinted.\",\n",
       " 'languages': ['English'],\n",
       " 'released': datetime.datetime(1903, 12, 1, 0, 0),\n",
       " 'directors': ['Edwin S. Porter'],\n",
       " 'rated': 'TV-G',\n",
       " 'awards': {'wins': 1, 'nominations': 0, 'text': '1 win.'},\n",
       " 'lastupdated': '2015-08-13 00:27:59.177000000',\n",
       " 'year': 1903,\n",
       " 'imdb': {'rating': 7.4, 'votes': 9847, 'id': 439},\n",
       " 'countries': ['USA'],\n",
       " 'type': 'movie',\n",
       " 'tomatoes': {'viewer': {'rating': 3.7, 'numReviews': 2559, 'meter': 75},\n",
       "  'fresh': 6,\n",
       "  'critic': {'rating': 7.6, 'numReviews': 6, 'meter': 100},\n",
       "  'rotten': 0,\n",
       "  'lastUpdated': datetime.datetime(2015, 8, 8, 19, 16, 10)},\n",
       " 'num_mflix_comments': 0}"
      ]
     },
     "execution_count": 7,
     "metadata": {},
     "output_type": "execute_result"
    }
   ],
   "source": [
    "collection = db[\"movies\"]\n",
    "collection.find_one({})"
   ]
  },
  {
   "cell_type": "markdown",
   "id": "c5a8da2f-426d-408c-a554-f77a31983169",
   "metadata": {},
   "source": [
    "Let's try a query with a simple query filter.\n",
    "\n",
    "To find all movies that were released before the year 1900, we will call the `find()` method with a query filter.\n",
    "\n",
    "The filter is essentially a Python dictionary where the key is the field in the MongoDB documents that you want to filter on (`year`), and the value is the filter expression, which uses the `$lt` operator to convey `< 1900`.\n",
    "\n",
    "Note that the `find()` method returns a cursor that you need to iterate over, to access the returned documents."
   ]
  },
  {
   "cell_type": "code",
   "execution_count": 11,
   "id": "633bc4a1-db9b-4f95-b849-7427b9f9c7b3",
   "metadata": {},
   "outputs": [
    {
     "name": "stdout",
     "output_type": "stream",
     "text": [
      "{'_id': ObjectId('573a139cf29313caabcf560f'),\n",
      " 'awards': {'nominations': 0, 'text': '1 win.', 'wins': 1},\n",
      " 'cast': ['May Irwin', 'John C. Rice'],\n",
      " 'countries': ['USA'],\n",
      " 'directors': ['William Heise'],\n",
      " 'fullplot': 'A couple make love, in the 19th century sense. Then he grooms '\n",
      "             'his moustache, and gives her a kiss. On the lips!',\n",
      " 'genres': ['Short', 'Romance'],\n",
      " 'imdb': {'id': 139738, 'rating': 5.9, 'votes': 1739},\n",
      " 'lastupdated': '2015-08-07 00:29:36.180000000',\n",
      " 'num_mflix_comments': 0,\n",
      " 'plot': 'Two people kiss.',\n",
      " 'runtime': 1,\n",
      " 'title': 'The Kiss',\n",
      " 'tomatoes': {'dvd': datetime.datetime(1999, 5, 4, 0, 0),\n",
      "              'lastUpdated': datetime.datetime(2015, 8, 22, 19, 24, 9),\n",
      "              'viewer': {'meter': 87, 'numReviews': 235, 'rating': 4.0}},\n",
      " 'type': 'movie',\n",
      " 'writers': ['John J. McNally (play)'],\n",
      " 'year': 1896}\n",
      "{'_id': ObjectId('573a13a0f29313caabd041db'),\n",
      " 'awards': {'nominations': 0, 'text': '1 win.', 'wins': 1},\n",
      " 'cast': ['May Irwin', 'John C. Rice'],\n",
      " 'countries': ['USA'],\n",
      " 'directors': ['William Heise'],\n",
      " 'fullplot': 'A couple make love, in the 19th century sense. Then he grooms '\n",
      "             'his moustache, and gives her a kiss. On the lips!',\n",
      " 'genres': ['Short', 'Romance'],\n",
      " 'imdb': {'id': 139738, 'rating': 5.9, 'votes': 1759},\n",
      " 'lastupdated': '2015-08-30 04:39:01.160000000',\n",
      " 'num_mflix_comments': 1,\n",
      " 'plot': 'Two people kiss.',\n",
      " 'runtime': 1,\n",
      " 'title': 'The Kiss',\n",
      " 'type': 'movie',\n",
      " 'writers': ['John J. McNally (play)'],\n",
      " 'year': 1896}\n"
     ]
    }
   ],
   "source": [
    "old_movies_query = {\"year\": {\"$lt\": 1900}}\n",
    "\n",
    "import pprint\n",
    "\n",
    "# Execute the query and iterate through the resulting cursor\n",
    "for doc in collection.find(old_movies_query):\n",
    "    pprint.pprint(doc)"
   ]
  },
  {
   "cell_type": "markdown",
   "id": "1d408b5d-f068-4c10-9632-718c2b8158a9",
   "metadata": {},
   "source": [
    "Now, let's try a query with multiple conditions in the query filter. For this, we will use the `$and` operator, similar to the `AND` operator in SQL.\n",
    "\n",
    "The `$and` operator accepts a list of query expressions, so in this case we have one expression to convey `year` < 1930 using the `$lt` operator, and another for `imdb.rating` >= 8 using the `$gte` operator."
   ]
  },
  {
   "cell_type": "code",
   "execution_count": 13,
   "id": "af603571-2fd9-4c48-b41c-0934bb98eaa8",
   "metadata": {},
   "outputs": [
    {
     "name": "stdout",
     "output_type": "stream",
     "text": [
      "{'_id': ObjectId('573a1391f29313caabcd6e2a'),\n",
      " 'awards': {'nominations': 0, 'text': '1 win.', 'wins': 1},\n",
      " 'cast': ['Buster Keaton', 'Sybil Seely'],\n",
      " 'countries': ['USA'],\n",
      " 'directors': ['Edward F. Cline', 'Buster Keaton'],\n",
      " 'fullplot': 'Buster and Sybil exit a chapel as newlyweds. Among the gifts is '\n",
      "             \"a portable house you easily put together in one week. It doesn't \"\n",
      "             \"help that Buster's rival for Sybil switches the numbers on the \"\n",
      "             'crates containing the house parts.',\n",
      " 'genres': ['Short', 'Comedy'],\n",
      " 'imdb': {'id': 11541, 'rating': 8.3, 'votes': 3942},\n",
      " 'languages': ['English'],\n",
      " 'lastupdated': '2015-05-07 01:07:01.633000000',\n",
      " 'num_mflix_comments': 0,\n",
      " 'plot': 'A newly wedded couple attempt to build a house with a prefabricated '\n",
      "         \"kit, unaware that a rival sabotaged the kit's component numbering.\",\n",
      " 'rated': 'TV-G',\n",
      " 'released': datetime.datetime(1920, 9, 1, 0, 0),\n",
      " 'runtime': 25,\n",
      " 'title': 'One Week',\n",
      " 'tomatoes': {'lastUpdated': datetime.datetime(2015, 9, 13, 18, 22, 19),\n",
      "              'viewer': {'meter': 91, 'numReviews': 752, 'rating': 4.3}},\n",
      " 'type': 'movie',\n",
      " 'year': 1920}\n"
     ]
    }
   ],
   "source": [
    "best_old_movies_query = { \"$and\":[\n",
    "                    {\"year\": {\"$lt\": 1921}},\n",
    "                    {\"imdb.rating\": {\"$gte\": 8}}\n",
    "                  ]\n",
    "        }\n",
    "\n",
    "# Execute the query and iterate through the resulting cursor\n",
    "for doc in collection.find(best_old_movies_query):\n",
    "    pprint.pprint(doc)"
   ]
  },
  {
   "cell_type": "markdown",
   "id": "57dae862-2482-4092-ad70-65831f2f6147",
   "metadata": {},
   "source": [
    "# More complex aggregations\n",
    "\n",
    "You can also perform complex aggregations on your data, involving grouping and joins, using the MongoDB Query API.\n",
    "\n",
    "As you have seen, this is done using aggregation pipelines, which sequentially process documents using a series of data processing \"stages\".\n",
    "\n",
    "Let's run some aggregation pipelines against the `movies` collection.\n",
    "\n",
    "### Top 5 movies with the highest IMDB ratings\n",
    "\n",
    "To get the top 5 movies with the highest IMDB ratings, you need to:\n",
    "1. Sort the documents in descending order of `imdb.rating`.\n",
    "2. Limit the results to 5.\n",
    "3. Project out only the `title` field in the final results.\n",
    "\n",
    "Each of the steps above corresponds to a stage in the aggregation pipeline. As with CRUD operations, you will use different operators available in the MongoDB Query API to build the aggregation pipeline. For example, you will use `$sort` to sort the results in a particular order, `$limit` to limit the number of results returned, and `$project` to project out only certain fields.\n",
    "\n",
    "**Create the aggregation pipeline to list the top 5 movies with highest IMDB ratings consisting of `$sort`, `$limit` and `$project` stages.**"
   ]
  },
  {
   "cell_type": "code",
   "execution_count": 15,
   "id": "d6358acd-1029-4313-b857-e25b3acc358c",
   "metadata": {},
   "outputs": [
    {
     "name": "stdout",
     "output_type": "stream",
     "text": [
      "{'title': 'The Danish Girl'}\n",
      "{'title': 'Landet som icke èr'}\n",
      "{'title': 'Scouts Guide to the Zombie Apocalypse'}\n",
      "{'title': 'Catching the Sun'}\n",
      "{'title': 'La nao capitana'}\n"
     ]
    }
   ],
   "source": [
    "sort_query = [\n",
    "          { \"$sort\": { \"imdb.rating\": -1 } },\n",
    "          { \"$limit\": 5 },\n",
    "          { \"$project\": { \"title\": 1, \"_id\": 0} } ]\n",
    "\n",
    "for doc in collection.aggregate(sort_query):\n",
    "    print(doc)"
   ]
  },
  {
   "cell_type": "markdown",
   "id": "b5710a7d-78a4-4fde-8cb3-12951cad835e",
   "metadata": {},
   "source": [
    "### Top 5 directors by average IMDB rating, who have made at least 20 movies\n",
    "\n",
    "Let's look at a slightly more complex aggregation pipeline. Here, we want to find the top 5 directors by average IMDB rating, who have made more than 20 movies. Once again, let's break down the calculation into sub-steps:\n",
    "1. Extract individual directors from the array of `directors`.\n",
    "2. For each director, count the number of films made, and the average `imdb.rating`.\n",
    "3. Filter for directors who have made >= 20 movies.\n",
    "4. Sort the resulting list of directors in descending ourder of average IMDB rating.\n",
    "5. Limit the number of results returned to 5.\n",
    "\n",
    "You learned about the `$sort` and `$limit` stages in the previous example. We will use these in Steps 4 and 5 of the pipeline, but you will need the following stages for Step 1 to 3:\n",
    "1. [`$unwind`](https://www.mongodb.com/docs/manual/reference/operator/aggregation/unwind/): Deconstruct a single document with a list of directors into multiple documents, one for each director.\n",
    "2. [`$group`](https://www.mongodb.com/docs/manual/reference/operator/aggregation/group/): Group documents by director, and calculate additional fields such as film count (`filmCount`) and average `imdb.rating` (`avgRating`)using accumulator expressions such as `$sum` and `$avg` respectively. Refer to MongoDB's documentation to see all the [accumulator expressions](https://www.mongodb.com/docs/manual/reference/operator/aggregation/group/#std-label-accumulators-group) supported by the MongoDB Query API.\n",
    "3. [`$match`](https://www.mongodb.com/docs/manual/reference/operator/aggregation/match/): Filter directors based on condition, in this case, film count >= 20."
   ]
  },
  {
   "cell_type": "code",
   "execution_count": 16,
   "id": "3761ac5f-fe4a-4056-9a7b-d357a10471c7",
   "metadata": {},
   "outputs": [
    {
     "name": "stdout",
     "output_type": "stream",
     "text": [
      "{'_id': 'William Wyler', 'filmCount': 21, 'avgRating': 7.676190476190476}\n",
      "{'_id': 'Martin Scorsese', 'filmCount': 32, 'avgRating': 7.640625}\n",
      "{'_id': 'Alfred Hitchcock', 'filmCount': 24, 'avgRating': 7.5874999999999995}\n",
      "{'_id': 'Steven Spielberg', 'filmCount': 29, 'avgRating': 7.479310344827587}\n",
      "{'_id': 'Woody Allen', 'filmCount': 40, 'avgRating': 7.215000000000001}\n"
     ]
    }
   ],
   "source": [
    "group_query = [ { \"$unwind\": \"$directors\" },\n",
    "          { \"$group\": { \"_id\": \"$directors\", \"filmCount\": { \"$sum\": 1 }, \"avgRating\": { \"$avg\": \"$imdb.rating\" } } },\n",
    "          { \"$match\": { \"filmCount\": { \"$gte\": 20 } } },\n",
    "          { \"$sort\": { \"avgRating\": -1 } },\n",
    "          { \"$limit\": 5 } ]\n",
    "\n",
    "# Execute the aggregation pipeline and iterate through the resulting cursor\n",
    "for doc in collection.aggregate(group_query):\n",
    "    print(doc)"
   ]
  },
  {
   "cell_type": "code",
   "execution_count": null,
   "id": "a2686581-3a3e-4fdb-a069-ddcaf9b47088",
   "metadata": {},
   "outputs": [],
   "source": []
  }
 ],
 "metadata": {
  "kernelspec": {
   "display_name": "Python 3 (ipykernel)",
   "language": "python",
   "name": "python3"
  },
  "language_info": {
   "codemirror_mode": {
    "name": "ipython",
    "version": 3
   },
   "file_extension": ".py",
   "mimetype": "text/x-python",
   "name": "python",
   "nbconvert_exporter": "python",
   "pygments_lexer": "ipython3",
   "version": "3.12.9"
  }
 },
 "nbformat": 4,
 "nbformat_minor": 5
}
